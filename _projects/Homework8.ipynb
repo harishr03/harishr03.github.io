{
 "cells": [
  {
   "cell_type": "markdown",
   "metadata": {},
   "source": [
    "---\n",
    "name: Building Inventory Visualization\n",
    "tools: [Python, HTML, Altair]\n",
    "description: This is a project that includes visualizations made with the buildings inventory dataset. \n",
    "custom_js:\n",
    " - vega.min\n",
    " - vega-lite.min\n",
    " - vega-embed.min\n",
    " - just charts\n",
    "---"
   ]
  },
  {
   "cell_type": "markdown",
   "metadata": {},
   "source": [
    "# Building Inventory Dataset Visualization"
   ]
  },
  {
   "cell_type": "markdown",
   "metadata": {},
   "source": [
    "### Plot 1: Visualization of square footage and total floors of a building "
   ]
  },
  {
   "cell_type": "code",
   "execution_count": 1,
   "metadata": {
    "vscode": {
     "languageId": "html"
    }
   },
   "outputs": [
    {
     "ename": "SyntaxError",
     "evalue": "invalid syntax (2324396035.py, line 1)",
     "output_type": "error",
     "traceback": [
      "\u001b[0;36m  Cell \u001b[0;32mIn[1], line 1\u001b[0;36m\u001b[0m\n\u001b[0;31m    <vegachart schema-ur=\"{{ site.baseurl }}/assets/json/scatter1.json\"style=\"width: 100%\"></vegachart>\u001b[0m\n\u001b[0m    ^\u001b[0m\n\u001b[0;31mSyntaxError\u001b[0m\u001b[0;31m:\u001b[0m invalid syntax\n"
     ]
    }
   ],
   "source": [
    "<vegachart schema-ur=\"{{ site.baseurl }}/assets/json/scatter1.json\"style=\"width: 100%\"></vegachart>"
   ]
  },
  {
   "cell_type": "markdown",
   "metadata": {},
   "source": [
    "### Write-Up for Plot 1"
   ]
  },
  {
   "cell_type": "markdown",
   "metadata": {},
   "source": [
    "This scatter plot visually illustrates the relationship between the floor area of a building and its corresponding square footage. Additionally, it provides insight into the construction years of these buildings, shedding light on whether older structures tend to exhibit more floors and square footage in comparison to newer ones. The choice of a scatter plot was deliberate, as it offers an effective means of identifying outliers and discerning patterns among these three key variables. The 'inferno' color scheme was selected for its consistency in color, making it easier to distinguish outliers due to its darker shades at the lower end of the spectrum."
   ]
  },
  {
   "cell_type": "markdown",
   "metadata": {},
   "source": [
    "Plot 2: Interactive plot of Congresss members, Congress District and Rep Dist. "
   ]
  },
  {
   "cell_type": "code",
   "execution_count": null,
   "metadata": {
    "vscode": {
     "languageId": "html"
    }
   },
   "outputs": [],
   "source": [
    "<vegachart schema-url=\"{{ site.baseurl }}/assets/json/scatter1.json\"style=\"width: 100%\":></vegachart>"
   ]
  },
  {
   "cell_type": "markdown",
   "metadata": {},
   "source": [
    "### Write-Up for Plot 2"
   ]
  },
  {
   "cell_type": "markdown",
   "metadata": {},
   "source": [
    "This interactive plot combines two distinct chart types to provide insightful information. The first chart takes the form of a rectangular grid, displaying Congress members alongside their corresponding Congressional Districts. The second chart adopts a bar chart format to effectively illustrate Representative Districts and their corresponding record counts. The chart's height is set at 200 to ensure full visibility of all Congress members' names.\n",
    "\n",
    "The choice of a bar chart is deliberate, as it accurately reveals the Representative District with the highest count for each selection made in the first chart. The interactive nature of this chart enhances its appeal and clarity, particularly considering the substantial volume of data it conveys. In essence, it consolidates what would typically require multiple plots into a single, comprehensive visualization."
   ]
  },
  {
   "cell_type": "markdown",
   "metadata": {},
   "source": [
    "<div class='left'>\n",
    "<a class=\"m-1 btn btn-outline-primary btn-2 \" href=\"https://github.com/harishr03/harishr03.github.io/blob/main/assets/json/altair_mobility_local_dashboard.json\">\n",
    "The Data\n",
    "</a>\n",
    "</div>\n",
    "\n",
    "<div class=\"right\">\n",
    "<a class=\"m-1 btn btn-outline-primary btn-2 \" href=\"https://github.com/harishr03/harishr03.github.io/blob/main/python_notebooks/HW8.ipynb\">\n",
    "The Analysis\n",
    "</a>\n",
    "</div>"
   ]
  },
  {
   "cell_type": "markdown",
   "metadata": {},
   "source": []
  }
 ],
 "metadata": {
  "kernelspec": {
   "display_name": "base",
   "language": "python",
   "name": "python3"
  },
  "language_info": {
   "codemirror_mode": {
    "name": "ipython",
    "version": 3
   },
   "file_extension": ".py",
   "mimetype": "text/x-python",
   "name": "python",
   "nbconvert_exporter": "python",
   "pygments_lexer": "ipython3",
   "version": "3.10.9"
  }
 },
 "nbformat": 4,
 "nbformat_minor": 2
}
